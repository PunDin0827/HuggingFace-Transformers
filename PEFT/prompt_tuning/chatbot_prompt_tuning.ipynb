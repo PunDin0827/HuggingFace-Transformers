{
  "nbformat": 4,
  "nbformat_minor": 0,
  "metadata": {
    "colab": {
      "provenance": []
    },
    "kernelspec": {
      "name": "python3",
      "display_name": "Python 3"
    },
    "language_info": {
      "name": "python"
    }
  },
  "cells": [
    {
      "cell_type": "markdown",
      "source": [
        "*Step.1 導入相關套件*"
      ],
      "metadata": {
        "id": "GewUORZclHMa"
      }
    },
    {
      "cell_type": "code",
      "execution_count": null,
      "metadata": {
        "id": "WAJT5n62kDgZ"
      },
      "outputs": [],
      "source": [
        "!pip install datasets"
      ]
    },
    {
      "cell_type": "code",
      "source": [
        "from datasets import Dataset\n",
        "from transformers import AutoTokenizer, AutoModelForCausalLM, DataCollatorForSeq2Seq, TrainingArguments, Trainer"
      ],
      "metadata": {
        "id": "7g7xoSyTlbXw"
      },
      "execution_count": 2,
      "outputs": []
    },
    {
      "cell_type": "markdown",
      "source": [
        "*Step.2 載入數據*"
      ],
      "metadata": {
        "id": "gma9UUSblMVx"
      }
    },
    {
      "cell_type": "code",
      "source": [
        "ds = Dataset.load_from_disk(\"./alpaca_data_zh/\")\n",
        "ds"
      ],
      "metadata": {
        "id": "wepO9gduldMX"
      },
      "execution_count": null,
      "outputs": []
    },
    {
      "cell_type": "code",
      "source": [
        "ds[:3]"
      ],
      "metadata": {
        "id": "Q9aoJl3qleN2"
      },
      "execution_count": null,
      "outputs": []
    },
    {
      "cell_type": "markdown",
      "source": [
        "*Step.3 數據前處理*"
      ],
      "metadata": {
        "id": "rz20aYfRlNax"
      }
    },
    {
      "cell_type": "code",
      "source": [
        "tokenizer = AutoTokenizer.from_pretrained(\"Langboat/bloom-1b4-zh\")\n",
        "tokenizer"
      ],
      "metadata": {
        "id": "kWsxgSWTlfV4"
      },
      "execution_count": null,
      "outputs": []
    },
    {
      "cell_type": "code",
      "source": [
        "def process_func(example):\n",
        "    MAX_LENGTH = 256\n",
        "    input_ids, attention_mask, labels = [], [], []\n",
        "    instruction = tokenizer(\"\\n\".join([\"Human: \" + example[\"instruction\"], example[\"input\"]]).strip() + \"\\n\\nAssistant: \")\n",
        "    response = tokenizer(example[\"output\"] + tokenizer.eos_token)\n",
        "    input_ids = instruction[\"input_ids\"] + response[\"input_ids\"]\n",
        "    attention_mask = instruction[\"attention_mask\"] + response[\"attention_mask\"]\n",
        "    labels = [-100] * len(instruction[\"input_ids\"]) + response[\"input_ids\"]\n",
        "    if len(input_ids) > MAX_LENGTH:\n",
        "        input_ids = input_ids[:MAX_LENGTH]\n",
        "        attention_mask = attention_mask[:MAX_LENGTH]\n",
        "        labels = labels[:MAX_LENGTH]\n",
        "    return {\n",
        "        \"input_ids\": input_ids,\n",
        "        \"attention_mask\": attention_mask,\n",
        "        \"labels\": labels\n",
        "    }"
      ],
      "metadata": {
        "id": "fWhpSimvlgYo"
      },
      "execution_count": 9,
      "outputs": []
    },
    {
      "cell_type": "code",
      "source": [
        "tokenized_ds = ds.map(process_func, remove_columns=ds.column_names)\n",
        "tokenized_ds"
      ],
      "metadata": {
        "id": "ADZVRBrqlhXD"
      },
      "execution_count": null,
      "outputs": []
    },
    {
      "cell_type": "code",
      "source": [
        "tokenizer.decode(tokenized_ds[1][\"input_ids\"])"
      ],
      "metadata": {
        "id": "wr647yOAliKQ"
      },
      "execution_count": null,
      "outputs": []
    },
    {
      "cell_type": "code",
      "source": [
        "tokenizer.decode(list(filter(lambda x: x != -100, tokenized_ds[1][\"labels\"])))"
      ],
      "metadata": {
        "id": "ZckwFshJli-A"
      },
      "execution_count": null,
      "outputs": []
    },
    {
      "cell_type": "markdown",
      "source": [
        "*Step.4 模型建立*"
      ],
      "metadata": {
        "id": "2SE0j_QKlNXM"
      }
    },
    {
      "cell_type": "code",
      "source": [
        "model = AutoModelForCausalLM.from_pretrained(\"Langboat/bloom-1b4-zh\")"
      ],
      "metadata": {
        "id": "JkCgT0gSlj5h"
      },
      "execution_count": null,
      "outputs": []
    },
    {
      "cell_type": "code",
      "source": [
        "sum(param.numel() for param in model.parameters())"
      ],
      "metadata": {
        "id": "1ku9meG3nD8A",
        "colab": {
          "base_uri": "https://localhost:8080/"
        },
        "outputId": "6cbabeba-efbc-4fe8-9365-a1b66492aa96"
      },
      "execution_count": 12,
      "outputs": [
        {
          "output_type": "execute_result",
          "data": {
            "text/plain": [
              "1303111680"
            ]
          },
          "metadata": {},
          "execution_count": 12
        }
      ]
    },
    {
      "cell_type": "markdown",
      "source": [
        "model size: 1.3B\n",
        "\n",
        "model: 1.3G * 4 ~= 5.2G\n",
        "\n",
        "gradient: 1.3G * 4 ~= 5.2G\n",
        "\n",
        "optimizer: 1.3G * 4 * 2 ~= 10.4G\n",
        "\n",
        "sum: 20.8G"
      ],
      "metadata": {
        "id": "9L1dvKLOm_o2"
      }
    },
    {
      "cell_type": "markdown",
      "source": [
        "# Prompt tuning\n",
        "# PEFT Step.1 配置文件"
      ],
      "metadata": {
        "id": "Vixj8D6All4J"
      }
    },
    {
      "cell_type": "code",
      "source": [
        "from peft import PromptTuningConfig, get_peft_model, TaskType, PromptTuningInit\n",
        "\n",
        "# Soft Prompt\n",
        "# config = PromptTuningConfig(task_type=TaskType.CAUSAL_LM,\n",
        "#                num_virtual_tokens=10,\n",
        "#                encoder_reparameterization_type = PromptEncoderReparameterizationType.LSTM,\n",
        "#                encoder_dropout = 0.1,\n",
        "#                encoder_num_layers = 5,\n",
        "#                encoder_hidden_size = 1024))\n",
        "# config\n",
        "# Hard Prompt\n",
        "config = PromptTuningConfig(task_type = TaskType.CAUSAL_LM,\n",
        "               prompt_tuning_init = PromptTuningInit.TEXT,\n",
        "               prompt_tuning_init_text = \"下面是一段人與機器人的對話。\",\n",
        "               num_virtual_tokens = len(tokenizer(\"下面是一段人與機器人的對話。\")[\"input_ids\"]),\n",
        "               tokenizer_name_or_path = \"Langboat/bloom-1b4-zh\")\n",
        "config"
      ],
      "metadata": {
        "id": "mYg6B2weltYH"
      },
      "execution_count": null,
      "outputs": []
    },
    {
      "cell_type": "markdown",
      "source": [
        "# PEFT Step.2 建立模型"
      ],
      "metadata": {
        "id": "9AsYNPnSl2ZI"
      }
    },
    {
      "cell_type": "code",
      "source": [
        "model = get_peft_model(model, config)"
      ],
      "metadata": {
        "id": "UjqOc_VRl9OI"
      },
      "execution_count": 14,
      "outputs": []
    },
    {
      "cell_type": "code",
      "source": [
        "model"
      ],
      "metadata": {
        "id": "1sms8F8sl9-I"
      },
      "execution_count": null,
      "outputs": []
    },
    {
      "cell_type": "code",
      "source": [
        "model.print_trainable_parameters()"
      ],
      "metadata": {
        "id": "nvLsDsxll-lk",
        "colab": {
          "base_uri": "https://localhost:8080/"
        },
        "outputId": "6bd61c7b-a451-4e2d-c579-63d2c2bd59d4"
      },
      "execution_count": 16,
      "outputs": [
        {
          "output_type": "stream",
          "name": "stdout",
          "text": [
            "trainable params: 22,528 || all params: 1,303,134,208 || trainable%: 0.0017\n"
          ]
        }
      ]
    },
    {
      "cell_type": "markdown",
      "source": [
        "*Step.5 訓練參數*"
      ],
      "metadata": {
        "id": "APQdSLMLlQjm"
      }
    },
    {
      "cell_type": "code",
      "source": [
        "args = TrainingArguments(\n",
        "    output_dir = \"./chatbot\",\n",
        "    per_device_train_batch_size = 1,\n",
        "    gradient_accumulation_steps = 8,\n",
        "    logging_steps = 10,\n",
        "    num_train_epochs = 1,\n",
        "    save_steps = 20,\n",
        ")"
      ],
      "metadata": {
        "id": "aGkDufzImAV4"
      },
      "execution_count": null,
      "outputs": []
    },
    {
      "cell_type": "markdown",
      "source": [
        "*Step.6 訓練器*"
      ],
      "metadata": {
        "id": "iX84Q5lAlTJt"
      }
    },
    {
      "cell_type": "code",
      "source": [
        "trainer = Trainer(\n",
        "    model = model,\n",
        "    args = args,\n",
        "    tokenizer = tokenizer,\n",
        "    train_dataset = tokenized_ds,\n",
        "    data_collator = DataCollatorForSeq2Seq(tokenizer=tokenizer, padding=True),\n",
        ")"
      ],
      "metadata": {
        "id": "wBPIKtLJmBea"
      },
      "execution_count": null,
      "outputs": []
    },
    {
      "cell_type": "markdown",
      "source": [
        "*Step.7 模型訓練*"
      ],
      "metadata": {
        "id": "BKlhiO8ulUp5"
      }
    },
    {
      "cell_type": "code",
      "source": [
        "trainer.train()"
      ],
      "metadata": {
        "id": "N5vTOkJXmCWN"
      },
      "execution_count": null,
      "outputs": []
    },
    {
      "cell_type": "markdown",
      "source": [
        "# 載入訓練好的PEFT模型"
      ],
      "metadata": {
        "id": "P-bYpQVRmDQp"
      }
    },
    {
      "cell_type": "code",
      "source": [
        "from peft import PeftModel"
      ],
      "metadata": {
        "id": "aORT7Kh4mI7G"
      },
      "execution_count": null,
      "outputs": []
    },
    {
      "cell_type": "code",
      "source": [
        "model = AutoModelForCausalLM.from_pretrained(\"Langboat/bloom-1b4-zh\")\n",
        "peft_model = PeftModel.from_pretrained(model=model, model_id=\"./chatbot/checkpoint-20/\")"
      ],
      "metadata": {
        "id": "tIXu7XP2mJz0"
      },
      "execution_count": null,
      "outputs": []
    },
    {
      "cell_type": "markdown",
      "source": [
        "*Step.8 模型推理*"
      ],
      "metadata": {
        "id": "tqY39tI-lWD2"
      }
    },
    {
      "cell_type": "code",
      "source": [
        "peft_model = peft_model.cuda()\n",
        "ipt = tokenizer(\"Human: {}\\n{}\".format(\"考試有哪些技巧？\", \"\").strip() + \"\\n\\nAssistant: \", return_tensors=\"pt\").to(peft_model.device)\n",
        "print(tokenizer.decode(peft_model.generate(**ipt, max_length=128, do_sample=True)[0], skip_special_tokens=True))"
      ],
      "metadata": {
        "id": "V5uIxEmZmMWA"
      },
      "execution_count": null,
      "outputs": []
    }
  ]
}
