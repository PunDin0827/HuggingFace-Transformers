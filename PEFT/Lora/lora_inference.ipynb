{
  "nbformat": 4,
  "nbformat_minor": 0,
  "metadata": {
    "colab": {
      "provenance": []
    },
    "kernelspec": {
      "name": "python3",
      "display_name": "Python 3"
    },
    "language_info": {
      "name": "python"
    }
  },
  "cells": [
    {
      "cell_type": "code",
      "execution_count": null,
      "metadata": {
        "id": "-vyJFt2a1-Cx"
      },
      "outputs": [],
      "source": [
        "from transformers import AutoModelForCausalLM, AutoTokenizer\n",
        "\n",
        "from peft import PeftModel"
      ]
    },
    {
      "cell_type": "markdown",
      "source": [
        "*載入基礎模型*"
      ],
      "metadata": {
        "id": "6bgn4bYQ2DY_"
      }
    },
    {
      "cell_type": "code",
      "source": [
        "model = AutoModelForCausalLM.from_pretrained(\"Langboat/bloom-1b4-zh\")\n",
        "tokenizer = AutoTokenizer.from_pretrained(\"Langboat/bloom-1b4-zh\")"
      ],
      "metadata": {
        "id": "J8iwD9cv2FWV"
      },
      "execution_count": null,
      "outputs": []
    },
    {
      "cell_type": "markdown",
      "source": [
        "*載入Loar模型*"
      ],
      "metadata": {
        "id": "JtqrVE3O2G3Y"
      }
    },
    {
      "cell_type": "code",
      "source": [
        "p_model = PeftModel.from_pretrained(model, model_id=\"./chatbot/checkpoint-500/\")\n",
        "p_model"
      ],
      "metadata": {
        "id": "4QG5q8ON2KNe"
      },
      "execution_count": null,
      "outputs": []
    },
    {
      "cell_type": "code",
      "source": [
        "ipt = tokenizer(\"Human: {}\\n{}\".format(\"考試有哪些技巧？\", \"\").strip() + \"\\n\\nAssistant: \", return_tensors=\"pt\")\n",
        "tokenizer.decode(p_model.generate(**ipt, do_sample=False)[0], skip_special_tokens=True)"
      ],
      "metadata": {
        "id": "eWq1pOnC2MjQ"
      },
      "execution_count": null,
      "outputs": []
    },
    {
      "cell_type": "markdown",
      "source": [
        "*模型合併*"
      ],
      "metadata": {
        "id": "4Ppu7b7o2O5R"
      }
    },
    {
      "cell_type": "code",
      "source": [
        "merge_model = p_model.merge_and_unload()\n",
        "merge_model"
      ],
      "metadata": {
        "id": "kR0LGu4o2QfL"
      },
      "execution_count": null,
      "outputs": []
    },
    {
      "cell_type": "code",
      "source": [
        "ipt = tokenizer(\"Human: {}\\n{}\".format(\"考試有哪些技巧？\", \"\").strip() + \"\\n\\nAssistant: \", return_tensors=\"pt\")\n",
        "tokenizer.decode(merge_model.generate(**ipt, do_sample=False)[0], skip_special_tokens=True)"
      ],
      "metadata": {
        "id": "k_9IqjvW2R7y"
      },
      "execution_count": null,
      "outputs": []
    },
    {
      "cell_type": "markdown",
      "source": [
        "*保存完整模型*"
      ],
      "metadata": {
        "id": "RMd4WVb82UJg"
      }
    },
    {
      "cell_type": "code",
      "source": [
        "merge_model.save_pretrained(\"./chatbot/merge_model\")"
      ],
      "metadata": {
        "id": "gI3d18fP2X6m"
      },
      "execution_count": null,
      "outputs": []
    }
  ]
}