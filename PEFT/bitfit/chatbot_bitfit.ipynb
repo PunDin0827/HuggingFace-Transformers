{
  "nbformat": 4,
  "nbformat_minor": 0,
  "metadata": {
    "colab": {
      "provenance": []
    },
    "kernelspec": {
      "name": "python3",
      "display_name": "Python 3"
    },
    "language_info": {
      "name": "python"
    }
  },
  "cells": [
    {
      "cell_type": "markdown",
      "source": [
        "*Step.1 導入相關套件*\n"
      ],
      "metadata": {
        "id": "fK6U9va_cXGw"
      }
    },
    {
      "cell_type": "code",
      "execution_count": null,
      "metadata": {
        "id": "NJGNtWhkWq51"
      },
      "outputs": [],
      "source": [
        "!pip install datasets"
      ]
    },
    {
      "cell_type": "code",
      "source": [
        "from datasets import Dataset\n",
        "from transformers import AutoTokenizer, AutoModelForCausalLM, DataCollatorForSeq2Seq, TrainingArguments, Trainer"
      ],
      "metadata": {
        "id": "clX499frcYwQ"
      },
      "execution_count": 2,
      "outputs": []
    },
    {
      "cell_type": "markdown",
      "source": [
        "*Step.2 載入數據*"
      ],
      "metadata": {
        "id": "zC5NXdTncbBX"
      }
    },
    {
      "cell_type": "code",
      "source": [
        "ds = Dataset.load_from_disk(\"./alpaca_data_zh/\")\n",
        "ds"
      ],
      "metadata": {
        "id": "H5u_H9BXcbb_"
      },
      "execution_count": null,
      "outputs": []
    },
    {
      "cell_type": "code",
      "source": [
        "ds[:3]"
      ],
      "metadata": {
        "id": "PB6iZfWAcdl4"
      },
      "execution_count": null,
      "outputs": []
    },
    {
      "cell_type": "markdown",
      "source": [
        "*Step.3 數據前處理*"
      ],
      "metadata": {
        "id": "ZbDh862uc8x9"
      }
    },
    {
      "cell_type": "code",
      "source": [
        "tokenizer = AutoTokenizer.from_pretrained(\"Langboat/bloom-1b4-zh\")\n",
        "tokenizer"
      ],
      "metadata": {
        "id": "I2Z6KXq5dO8T"
      },
      "execution_count": null,
      "outputs": []
    },
    {
      "cell_type": "code",
      "source": [
        "def process_func(example):\n",
        "    MAX_LENGTH = 256\n",
        "    input_ids, attention_mask, labels = [], [], []\n",
        "    instruction = tokenizer(\"\\n\".join([\"Human: \" + example[\"instruction\"], example[\"input\"]]).strip() + \"\\n\\nAssistant: \")\n",
        "    response = tokenizer(example[\"output\"] + tokenizer.eos_token)\n",
        "    input_ids = instruction[\"input_ids\"] + response[\"input_ids\"]\n",
        "    attention_mask = instruction[\"attention_mask\"] + response[\"attention_mask\"]\n",
        "    labels = [-100] * len(instruction[\"input_ids\"]) + response[\"input_ids\"]\n",
        "    if len(input_ids) > MAX_LENGTH:\n",
        "        input_ids = input_ids[:MAX_LENGTH]\n",
        "        attention_mask = attention_mask[:MAX_LENGTH]\n",
        "        labels = labels[:MAX_LENGTH]\n",
        "    return {\n",
        "        \"input_ids\": input_ids,\n",
        "        \"attention_mask\": attention_mask,\n",
        "        \"labels\": labels\n",
        "    }"
      ],
      "metadata": {
        "id": "ijiaw0c-dP_8"
      },
      "execution_count": 7,
      "outputs": []
    },
    {
      "cell_type": "code",
      "source": [
        "tokenized_ds = ds.map(process_func, remove_columns=ds.column_names)\n",
        "tokenized_ds"
      ],
      "metadata": {
        "id": "QgNqV8OxdRIy"
      },
      "execution_count": null,
      "outputs": []
    },
    {
      "cell_type": "code",
      "source": [
        "tokenizer.decode(tokenized_ds[1][\"input_ids\"])"
      ],
      "metadata": {
        "id": "7QwiJ4R9dSRe"
      },
      "execution_count": null,
      "outputs": []
    },
    {
      "cell_type": "code",
      "source": [
        "tokenizer.decode(list(filter(lambda x: x != -100, tokenized_ds[1][\"labels\"])))"
      ],
      "metadata": {
        "id": "Qyxo2m3_dTO4"
      },
      "execution_count": null,
      "outputs": []
    },
    {
      "cell_type": "markdown",
      "source": [
        "*Step.4 模型建立*"
      ],
      "metadata": {
        "id": "0LqRwgILdE4Q"
      }
    },
    {
      "cell_type": "code",
      "source": [
        "model = AutoModelForCausalLM.from_pretrained(\"Langboat/bloom-1b4-zh\", low_cpu_mem_usage=True)"
      ],
      "metadata": {
        "id": "DmRb6RKadVqc"
      },
      "execution_count": null,
      "outputs": []
    },
    {
      "cell_type": "code",
      "source": [
        "sum(param.numel() for param in model.parameters())"
      ],
      "metadata": {
        "colab": {
          "base_uri": "https://localhost:8080/"
        },
        "id": "7G4hc_DndXxp",
        "outputId": "2d6c767d-2957-44ff-b7b0-56304e7e4bfa"
      },
      "execution_count": 12,
      "outputs": [
        {
          "output_type": "execute_result",
          "data": {
            "text/plain": [
              "1303111680"
            ]
          },
          "metadata": {},
          "execution_count": 12
        }
      ]
    },
    {
      "cell_type": "markdown",
      "source": [
        "model size: 1.3B\n",
        "\n",
        "model: 1.3G * 4 ~= 5.2G\n",
        "\n",
        "gradient: 1.3G * 4 ~= 5.2G\n",
        "\n",
        "optimizer: 1.3G * 4 * 2 ~= 10.4G\n",
        "\n",
        "sum: 20.8G"
      ],
      "metadata": {
        "id": "TFhrlhVMdYIh"
      }
    },
    {
      "cell_type": "markdown",
      "source": [
        "# *BitFit*"
      ],
      "metadata": {
        "id": "Je_NzGgMda2h"
      }
    },
    {
      "cell_type": "code",
      "source": [
        "num_param = 0\n",
        "for name, param in model.named_parameters():\n",
        "    if \"bias\" not in name:\n",
        "        param.requires_grad = False\n",
        "    else:\n",
        "        num_param += param.numel()\n",
        "\n",
        "num_param"
      ],
      "metadata": {
        "colab": {
          "base_uri": "https://localhost:8080/"
        },
        "id": "1qghbMpyddEe",
        "outputId": "120be829-531c-4454-b7fe-02addbae4886"
      },
      "execution_count": 13,
      "outputs": [
        {
          "output_type": "execute_result",
          "data": {
            "text/plain": [
              "544768"
            ]
          },
          "metadata": {},
          "execution_count": 13
        }
      ]
    },
    {
      "cell_type": "code",
      "source": [
        "num_param / sum(param.numel() for param in model.parameters())"
      ],
      "metadata": {
        "colab": {
          "base_uri": "https://localhost:8080/"
        },
        "id": "1680agFude7t",
        "outputId": "7c260696-ddcf-4aea-9b8e-1cbe8deac098"
      },
      "execution_count": 14,
      "outputs": [
        {
          "output_type": "execute_result",
          "data": {
            "text/plain": [
              "0.000418051659240749"
            ]
          },
          "metadata": {},
          "execution_count": 14
        }
      ]
    },
    {
      "cell_type": "markdown",
      "source": [
        "*Step.5 訓練參數*"
      ],
      "metadata": {
        "id": "pi0nS9VYdGkA"
      }
    },
    {
      "cell_type": "code",
      "source": [
        "args = TrainingArguments(\n",
        "    output_dir=\"./chatbot\",\n",
        "    per_device_train_batch_size=1,\n",
        "    gradient_accumulation_steps=8,\n",
        "    logging_steps=10,\n",
        "    num_train_epochs=1\n",
        ")"
      ],
      "metadata": {
        "id": "roUOxhmPdgfs"
      },
      "execution_count": null,
      "outputs": []
    },
    {
      "cell_type": "markdown",
      "source": [
        "*Step.6 訓練器*"
      ],
      "metadata": {
        "id": "q-JPYEeRdILx"
      }
    },
    {
      "cell_type": "code",
      "source": [
        "trainer = Trainer(\n",
        "    model=model,\n",
        "    args=args,\n",
        "    tokenizer=tokenizer,\n",
        "    train_dataset=tokenized_ds,\n",
        "    data_collator=DataCollatorForSeq2Seq(tokenizer=tokenizer, padding=True),\n",
        ")"
      ],
      "metadata": {
        "id": "LmKep39gdi77"
      },
      "execution_count": null,
      "outputs": []
    },
    {
      "cell_type": "markdown",
      "source": [
        "*Step.7 模型訓練*"
      ],
      "metadata": {
        "id": "SXzNOQ-0dKMz"
      }
    },
    {
      "cell_type": "code",
      "source": [
        "trainer.train()"
      ],
      "metadata": {
        "id": "WrpWnaW9dkGF"
      },
      "execution_count": null,
      "outputs": []
    },
    {
      "cell_type": "code",
      "source": [
        "model = model.cuda()\n",
        "ipt = tokenizer(\"Human: {}\\n{}\".format(\"考試有哪些技巧？\", \"\").strip() + \"\\n\\nAssistant: \", return_tensors=\"pt\").to(model.device)\n",
        "tokenizer.decode(model.generate(**ipt, max_length=128, do_sample=True)[0], skip_special_tokens=True)"
      ],
      "metadata": {
        "id": "3rhLp-rCdl33"
      },
      "execution_count": null,
      "outputs": []
    },
    {
      "cell_type": "markdown",
      "source": [
        "*Step.8 模型推理*"
      ],
      "metadata": {
        "id": "ctWRcWpGdL6n"
      }
    },
    {
      "cell_type": "code",
      "source": [
        "from transformers import pipeline\n",
        "\n",
        "pipe = pipeline(\"text-generation\", model=model, tokenizer=tokenizer, device=0)"
      ],
      "metadata": {
        "id": "MlnByEQjdpKr"
      },
      "execution_count": null,
      "outputs": []
    },
    {
      "cell_type": "code",
      "source": [
        "ipt = \"Human: {}\\n{}\".format(\"考試有哪些技巧？\", \"\").strip() + \"\\n\\nAssistant: \"\n",
        "pipe(ipt, max_length=256, do_sample=True, )"
      ],
      "metadata": {
        "id": "0ZhT41gKdp-z"
      },
      "execution_count": null,
      "outputs": []
    }
  ]
}